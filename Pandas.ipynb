{
 "cells": [
  {
   "cell_type": "code",
   "execution_count": 1,
   "id": "3482b2a6",
   "metadata": {},
   "outputs": [],
   "source": [
    "import numpy as np\n",
    "import pandas as pd"
   ]
  },
  {
   "cell_type": "code",
   "execution_count": 2,
   "id": "4be4b4b6",
   "metadata": {},
   "outputs": [],
   "source": [
    "mylist = [1, 2, 3]"
   ]
  },
  {
   "cell_type": "code",
   "execution_count": 3,
   "id": "4e5c7315",
   "metadata": {},
   "outputs": [
    {
     "name": "stdout",
     "output_type": "stream",
     "text": [
      "[1 2 3]\n"
     ]
    }
   ],
   "source": [
    "myarray = np.array(mylist)\n",
    "print(myarray)"
   ]
  },
  {
   "cell_type": "code",
   "execution_count": 5,
   "id": "70d4f90b",
   "metadata": {},
   "outputs": [
    {
     "name": "stdout",
     "output_type": "stream",
     "text": [
      "a    1\n",
      "b    2\n",
      "c    3\n",
      "dtype: int32\n"
     ]
    }
   ],
   "source": [
    "myseries = pd.Series(myarray, index=['a', 'b', 'c'])\n",
    "print(myseries)"
   ]
  },
  {
   "cell_type": "code",
   "execution_count": 6,
   "id": "fb1b3376",
   "metadata": {},
   "outputs": [],
   "source": [
    "age = [23, 25, 22, 21]"
   ]
  },
  {
   "cell_type": "code",
   "execution_count": 7,
   "id": "2a12edef",
   "metadata": {},
   "outputs": [
    {
     "data": {
      "text/plain": [
       "Michael    23\n",
       "Mike       25\n",
       "Jill       22\n",
       "Ali        21\n",
       "dtype: int64"
      ]
     },
     "execution_count": 7,
     "metadata": {},
     "output_type": "execute_result"
    }
   ],
   "source": [
    "pd.Series(age, index=[\"Michael\", \"Mike\", \"Jill\", \"Ali\"])"
   ]
  },
  {
   "cell_type": "code",
   "execution_count": 9,
   "id": "e1b46706",
   "metadata": {},
   "outputs": [],
   "source": [
    "grades = [77, 80, 54, 66]\n",
    "names = [\"Seda\", \"Ahmet\", \"Ceren\", \"Serkan\"]"
   ]
  },
  {
   "cell_type": "code",
   "execution_count": 10,
   "id": "efd40eb1",
   "metadata": {},
   "outputs": [
    {
     "name": "stdout",
     "output_type": "stream",
     "text": [
      "Seda      77\n",
      "Ahmet     80\n",
      "Ceren     54\n",
      "Serkan    66\n",
      "dtype: int64\n"
     ]
    }
   ],
   "source": [
    "grades_series = pd.Series(data=grades, index=names)\n",
    "print(grades_series)"
   ]
  },
  {
   "cell_type": "code",
   "execution_count": 11,
   "id": "17d371f6",
   "metadata": {},
   "outputs": [],
   "source": [
    "grades_series += 5"
   ]
  },
  {
   "cell_type": "code",
   "execution_count": 12,
   "id": "080fa6ea",
   "metadata": {},
   "outputs": [
    {
     "name": "stdout",
     "output_type": "stream",
     "text": [
      "Seda      82\n",
      "Ahmet     85\n",
      "Ceren     59\n",
      "Serkan    71\n",
      "dtype: int64\n"
     ]
    }
   ],
   "source": [
    "print(grades_series)"
   ]
  },
  {
   "cell_type": "code",
   "execution_count": 1,
   "id": "d90517fd",
   "metadata": {},
   "outputs": [
    {
     "ename": "NameError",
     "evalue": "name 'pd' is not defined",
     "output_type": "error",
     "traceback": [
      "\u001b[1;31m---------------------------------------------------------------------------\u001b[0m",
      "\u001b[1;31mNameError\u001b[0m                                 Traceback (most recent call last)",
      "Cell \u001b[1;32mIn[1], line 1\u001b[0m\n\u001b[1;32m----> 1\u001b[0m help(pd\u001b[38;5;241m.\u001b[39mDataFrame)\n",
      "\u001b[1;31mNameError\u001b[0m: name 'pd' is not defined"
     ]
    }
   ],
   "source": []
  },
  {
   "cell_type": "code",
   "execution_count": null,
   "id": "7661e8fb",
   "metadata": {},
   "outputs": [],
   "source": []
  }
 ],
 "metadata": {
  "kernelspec": {
   "display_name": "Python 3 (ipykernel)",
   "language": "python",
   "name": "python3"
  },
  "language_info": {
   "codemirror_mode": {
    "name": "ipython",
    "version": 3
   },
   "file_extension": ".py",
   "mimetype": "text/x-python",
   "name": "python",
   "nbconvert_exporter": "python",
   "pygments_lexer": "ipython3",
   "version": "3.11.5"
  }
 },
 "nbformat": 4,
 "nbformat_minor": 5
}
