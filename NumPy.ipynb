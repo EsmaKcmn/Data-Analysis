{
 "cells": [
  {
   "cell_type": "markdown",
   "id": "548a57aa",
   "metadata": {},
   "source": [
    "# NumPy\n",
    "NumPy bilimsel hesaplamalar yapmak için pratik bir pakettir."
   ]
  },
  {
   "cell_type": "code",
   "execution_count": null,
   "id": "75219fda",
   "metadata": {},
   "outputs": [],
   "source": [
    "import numpy as np"
   ]
  },
  {
   "cell_type": "markdown",
   "id": "9aae58c0",
   "metadata": {},
   "source": [
    " ## Array Oluşturmak"
   ]
  },
  {
   "cell_type": "code",
   "execution_count": 12,
   "id": "f0efd224",
   "metadata": {},
   "outputs": [],
   "source": [
    "a = [1, 2, 3, 4, 5]"
   ]
  },
  {
   "cell_type": "code",
   "execution_count": 13,
   "id": "a886d338",
   "metadata": {},
   "outputs": [
    {
     "data": {
      "text/plain": [
       "list"
      ]
     },
     "execution_count": 13,
     "metadata": {},
     "output_type": "execute_result"
    }
   ],
   "source": [
    "type(a)"
   ]
  },
  {
   "cell_type": "code",
   "execution_count": 18,
   "id": "00ffbe3e",
   "metadata": {},
   "outputs": [
    {
     "data": {
      "text/plain": [
       "[6, 7, 8, 9, 10]"
      ]
     },
     "execution_count": 18,
     "metadata": {},
     "output_type": "execute_result"
    }
   ],
   "source": [
    "b = list(range(6, 11))\n",
    "b"
   ]
  },
  {
   "cell_type": "code",
   "execution_count": 19,
   "id": "6899f66a",
   "metadata": {},
   "outputs": [
    {
     "data": {
      "text/plain": [
       "[1, 2, 3, 4, 5, 6, 7, 8, 9, 10]"
      ]
     },
     "execution_count": 19,
     "metadata": {},
     "output_type": "execute_result"
    }
   ],
   "source": [
    "a + b"
   ]
  },
  {
   "cell_type": "markdown",
   "id": "015f303d",
   "metadata": {},
   "source": [
    "np.array()"
   ]
  },
  {
   "cell_type": "code",
   "execution_count": 20,
   "id": "61beb7a8",
   "metadata": {},
   "outputs": [],
   "source": [
    "a1D = np.array(a)"
   ]
  },
  {
   "cell_type": "code",
   "execution_count": 21,
   "id": "e61dac4a",
   "metadata": {},
   "outputs": [
    {
     "name": "stdout",
     "output_type": "stream",
     "text": [
      "[1 2 3 4 5]\n"
     ]
    }
   ],
   "source": [
    "print(a1D)"
   ]
  },
  {
   "cell_type": "code",
   "execution_count": 22,
   "id": "5b8e0f03",
   "metadata": {},
   "outputs": [],
   "source": [
    "b1D = np.array(b)"
   ]
  },
  {
   "cell_type": "code",
   "execution_count": 23,
   "id": "7d1cb386",
   "metadata": {},
   "outputs": [
    {
     "name": "stdout",
     "output_type": "stream",
     "text": [
      "[ 6  7  8  9 10]\n"
     ]
    }
   ],
   "source": [
    "print(b1D)"
   ]
  },
  {
   "cell_type": "code",
   "execution_count": 24,
   "id": "788d646a",
   "metadata": {},
   "outputs": [
    {
     "data": {
      "text/plain": [
       "numpy.ndarray"
      ]
     },
     "execution_count": 24,
     "metadata": {},
     "output_type": "execute_result"
    }
   ],
   "source": [
    "type(a1D)"
   ]
  },
  {
   "cell_type": "code",
   "execution_count": 25,
   "id": "c05a5ebc",
   "metadata": {},
   "outputs": [
    {
     "data": {
      "text/plain": [
       "array([ 7,  9, 11, 13, 15])"
      ]
     },
     "execution_count": 25,
     "metadata": {},
     "output_type": "execute_result"
    }
   ],
   "source": [
    "a1D + b1D"
   ]
  },
  {
   "cell_type": "code",
   "execution_count": 26,
   "id": "d97731aa",
   "metadata": {},
   "outputs": [
    {
     "data": {
      "text/plain": [
       "([1, 2, 3, 4, 5], [6, 7, 8, 9, 10])"
      ]
     },
     "execution_count": 26,
     "metadata": {},
     "output_type": "execute_result"
    }
   ],
   "source": [
    "a, b"
   ]
  },
  {
   "cell_type": "code",
   "execution_count": 27,
   "id": "a6e90d3d",
   "metadata": {},
   "outputs": [
    {
     "data": {
      "text/plain": [
       "[[1, 2, 3, 4, 5], [6, 7, 8, 9, 10]]"
      ]
     },
     "execution_count": 27,
     "metadata": {},
     "output_type": "execute_result"
    }
   ],
   "source": [
    "[a, b]"
   ]
  },
  {
   "cell_type": "code",
   "execution_count": 28,
   "id": "0b054c09",
   "metadata": {},
   "outputs": [],
   "source": [
    "a2D = np.array([a, b])"
   ]
  },
  {
   "cell_type": "code",
   "execution_count": 29,
   "id": "79253a2e",
   "metadata": {},
   "outputs": [
    {
     "name": "stdout",
     "output_type": "stream",
     "text": [
      "[[ 1  2  3  4  5]\n",
      " [ 6  7  8  9 10]]\n"
     ]
    }
   ],
   "source": [
    "print(a2D)"
   ]
  },
  {
   "cell_type": "code",
   "execution_count": 30,
   "id": "83a8d88c",
   "metadata": {},
   "outputs": [
    {
     "data": {
      "text/plain": [
       "array([[  1,   4,   9,  16,  25],\n",
       "       [ 36,  49,  64,  81, 100]])"
      ]
     },
     "execution_count": 30,
     "metadata": {},
     "output_type": "execute_result"
    }
   ],
   "source": [
    "a2D * a2D"
   ]
  },
  {
   "cell_type": "markdown",
   "id": "86db2277",
   "metadata": {},
   "source": [
    "## 1D Array oluşturma fonksiyonları"
   ]
  },
  {
   "cell_type": "code",
   "execution_count": 32,
   "id": "4c60bdc2",
   "metadata": {},
   "outputs": [
    {
     "data": {
      "text/plain": [
       "[0, 1, 2, 3, 4, 5, 6, 7, 8, 9]"
      ]
     },
     "execution_count": 32,
     "metadata": {},
     "output_type": "execute_result"
    }
   ],
   "source": [
    "list(range(10))"
   ]
  },
  {
   "cell_type": "code",
   "execution_count": 33,
   "id": "9352024f",
   "metadata": {},
   "outputs": [
    {
     "data": {
      "text/plain": [
       "array([0, 1, 2, 3, 4, 5, 6, 7, 8, 9])"
      ]
     },
     "execution_count": 33,
     "metadata": {},
     "output_type": "execute_result"
    }
   ],
   "source": [
    "np.arange(10)"
   ]
  },
  {
   "cell_type": "code",
   "execution_count": 34,
   "id": "0ebad6ec",
   "metadata": {},
   "outputs": [
    {
     "data": {
      "text/plain": [
       "array([ 0,  1,  2,  3,  4,  5,  6,  7,  8,  9, 10, 11, 12, 13, 14, 15, 16,\n",
       "       17, 18, 19])"
      ]
     },
     "execution_count": 34,
     "metadata": {},
     "output_type": "execute_result"
    }
   ],
   "source": [
    "np.arange(20)"
   ]
  },
  {
   "cell_type": "code",
   "execution_count": 36,
   "id": "3590fb60",
   "metadata": {},
   "outputs": [
    {
     "data": {
      "text/plain": [
       "array([5, 6, 7, 8, 9])"
      ]
     },
     "execution_count": 36,
     "metadata": {},
     "output_type": "execute_result"
    }
   ],
   "source": [
    "np.arange(5, 10)"
   ]
  },
  {
   "cell_type": "code",
   "execution_count": 37,
   "id": "1af3bc05",
   "metadata": {},
   "outputs": [
    {
     "data": {
      "text/plain": [
       "[5, 7, 9]"
      ]
     },
     "execution_count": 37,
     "metadata": {},
     "output_type": "execute_result"
    }
   ],
   "source": [
    "list(range(5, 10, 2))"
   ]
  },
  {
   "cell_type": "code",
   "execution_count": 38,
   "id": "738f832b",
   "metadata": {},
   "outputs": [
    {
     "data": {
      "text/plain": [
       "array([5, 7, 9])"
      ]
     },
     "execution_count": 38,
     "metadata": {},
     "output_type": "execute_result"
    }
   ],
   "source": [
    "np.arange(5, 10, 2)"
   ]
  },
  {
   "cell_type": "markdown",
   "id": "3d465294",
   "metadata": {},
   "source": [
    "## np.linspace"
   ]
  },
  {
   "cell_type": "code",
   "execution_count": null,
   "id": "61a6c7ee",
   "metadata": {},
   "outputs": [],
   "source": [
    "np.linspace()"
   ]
  },
  {
   "cell_type": "code",
   "execution_count": 39,
   "id": "ff681918",
   "metadata": {},
   "outputs": [
    {
     "data": {
      "text/plain": [
       "array([ 0.,  1.,  2.,  3.,  4.,  5.,  6.,  7.,  8.,  9., 10., 11., 12.,\n",
       "       13., 14., 15., 16., 17., 18., 19., 20., 21., 22., 23., 24., 25.,\n",
       "       26., 27., 28., 29., 30., 31., 32., 33., 34., 35., 36., 37., 38.,\n",
       "       39., 40., 41., 42., 43., 44., 45., 46., 47., 48., 49.])"
      ]
     },
     "execution_count": 39,
     "metadata": {},
     "output_type": "execute_result"
    }
   ],
   "source": [
    "np.linspace(0, 49)"
   ]
  },
  {
   "cell_type": "code",
   "execution_count": 40,
   "id": "e3ceaa39",
   "metadata": {},
   "outputs": [
    {
     "data": {
      "text/plain": [
       "array([ 5.  ,  7.25,  9.5 , 11.75, 14.  , 16.25, 18.5 , 20.75, 23.  ,\n",
       "       25.25, 27.5 , 29.75, 32.  , 34.25, 36.5 , 38.75, 41.  , 43.25,\n",
       "       45.5 , 47.75, 50.  ])"
      ]
     },
     "execution_count": 40,
     "metadata": {},
     "output_type": "execute_result"
    }
   ],
   "source": [
    "np.linspace(5, 50, num=21)"
   ]
  },
  {
   "cell_type": "markdown",
   "id": "98061212",
   "metadata": {},
   "source": [
    "## 2D Array oluşturma fonksiyonları"
   ]
  },
  {
   "cell_type": "code",
   "execution_count": 41,
   "id": "3ddfc0a9",
   "metadata": {},
   "outputs": [
    {
     "data": {
      "text/plain": [
       "array([[1., 0., 0., 0., 0.],\n",
       "       [0., 1., 0., 0., 0.],\n",
       "       [0., 0., 1., 0., 0.],\n",
       "       [0., 0., 0., 1., 0.],\n",
       "       [0., 0., 0., 0., 1.]])"
      ]
     },
     "execution_count": 41,
     "metadata": {},
     "output_type": "execute_result"
    }
   ],
   "source": [
    "np.eye(5)"
   ]
  },
  {
   "cell_type": "code",
   "execution_count": 42,
   "id": "5a441fbf",
   "metadata": {},
   "outputs": [
    {
     "data": {
      "text/plain": [
       "array([[1, 0, 0, 0, 0, 0],\n",
       "       [0, 1, 0, 0, 0, 0],\n",
       "       [0, 0, 1, 0, 0, 0],\n",
       "       [0, 0, 0, 1, 0, 0],\n",
       "       [0, 0, 0, 0, 1, 0],\n",
       "       [0, 0, 0, 0, 0, 1]])"
      ]
     },
     "execution_count": 42,
     "metadata": {},
     "output_type": "execute_result"
    }
   ],
   "source": [
    "np.eye(6, dtype=int)"
   ]
  },
  {
   "cell_type": "markdown",
   "id": "74e34d7f",
   "metadata": {},
   "source": [
    "## np.zeros"
   ]
  },
  {
   "cell_type": "code",
   "execution_count": 43,
   "id": "29bd4f47",
   "metadata": {},
   "outputs": [
    {
     "data": {
      "text/plain": [
       "array([0, 0, 0, 0, 0])"
      ]
     },
     "execution_count": 43,
     "metadata": {},
     "output_type": "execute_result"
    }
   ],
   "source": [
    "np.zeros(5, dtype=int)"
   ]
  },
  {
   "cell_type": "code",
   "execution_count": 44,
   "id": "c4ff3295",
   "metadata": {},
   "outputs": [
    {
     "data": {
      "text/plain": [
       "array([[0, 0, 0],\n",
       "       [0, 0, 0]])"
      ]
     },
     "execution_count": 44,
     "metadata": {},
     "output_type": "execute_result"
    }
   ],
   "source": [
    "np.zeros((2, 3), dtype=int)"
   ]
  },
  {
   "cell_type": "code",
   "execution_count": 45,
   "id": "a2986745",
   "metadata": {},
   "outputs": [
    {
     "data": {
      "text/plain": [
       "array([[[0., 0., 0.],\n",
       "        [0., 0., 0.],\n",
       "        [0., 0., 0.]],\n",
       "\n",
       "       [[0., 0., 0.],\n",
       "        [0., 0., 0.],\n",
       "        [0., 0., 0.]]])"
      ]
     },
     "execution_count": 45,
     "metadata": {},
     "output_type": "execute_result"
    }
   ],
   "source": [
    "np.zeros((2, 3, 3))"
   ]
  },
  {
   "cell_type": "code",
   "execution_count": 46,
   "id": "acc34d47",
   "metadata": {},
   "outputs": [
    {
     "data": {
      "text/plain": [
       "array([[[0.],\n",
       "        [0.],\n",
       "        [0.]],\n",
       "\n",
       "       [[0.],\n",
       "        [0.],\n",
       "        [0.]]])"
      ]
     },
     "execution_count": 46,
     "metadata": {},
     "output_type": "execute_result"
    }
   ],
   "source": [
    "np.zeros((2, 3, 1))"
   ]
  },
  {
   "cell_type": "code",
   "execution_count": 47,
   "id": "b4afd56e",
   "metadata": {},
   "outputs": [
    {
     "data": {
      "text/plain": [
       "array([[1, 1, 1],\n",
       "       [1, 1, 1]])"
      ]
     },
     "execution_count": 47,
     "metadata": {},
     "output_type": "execute_result"
    }
   ],
   "source": [
    "np.zeros(shape=(2, 3), dtype=int) + 1"
   ]
  },
  {
   "cell_type": "markdown",
   "id": "5684134e",
   "metadata": {},
   "source": [
    "## Numpy Array'leri Çoğaltma, Birleştirme ve Değiştirme"
   ]
  },
  {
   "cell_type": "code",
   "execution_count": 48,
   "id": "56541989",
   "metadata": {},
   "outputs": [
    {
     "name": "stdout",
     "output_type": "stream",
     "text": [
      "[0 1 2 3 4 5 6 7 8 9]\n"
     ]
    }
   ],
   "source": [
    "a = np.arange(10)\n",
    "print(a)"
   ]
  },
  {
   "cell_type": "code",
   "execution_count": 49,
   "id": "499a34e7",
   "metadata": {},
   "outputs": [],
   "source": [
    "b = a"
   ]
  },
  {
   "cell_type": "code",
   "execution_count": 50,
   "id": "54330901",
   "metadata": {},
   "outputs": [
    {
     "name": "stdout",
     "output_type": "stream",
     "text": [
      "[0 1 2 3 4 5 6 7 8 9]\n"
     ]
    }
   ],
   "source": [
    "print(b)"
   ]
  },
  {
   "cell_type": "code",
   "execution_count": 51,
   "id": "a503d01e",
   "metadata": {},
   "outputs": [],
   "source": [
    "b += 1"
   ]
  },
  {
   "cell_type": "code",
   "execution_count": 52,
   "id": "47630550",
   "metadata": {},
   "outputs": [
    {
     "name": "stdout",
     "output_type": "stream",
     "text": [
      "[ 1  2  3  4  5  6  7  8  9 10]\n"
     ]
    }
   ],
   "source": [
    "print(b)"
   ]
  },
  {
   "cell_type": "code",
   "execution_count": 53,
   "id": "b428bdb8",
   "metadata": {},
   "outputs": [
    {
     "name": "stdout",
     "output_type": "stream",
     "text": [
      "[ 1  2  3  4  5  6  7  8  9 10]\n"
     ]
    }
   ],
   "source": [
    "print(a)"
   ]
  },
  {
   "cell_type": "code",
   "execution_count": 54,
   "id": "cb6539b7",
   "metadata": {},
   "outputs": [
    {
     "data": {
      "text/plain": [
       "2167463939504"
      ]
     },
     "execution_count": 54,
     "metadata": {},
     "output_type": "execute_result"
    }
   ],
   "source": [
    "id(a)"
   ]
  },
  {
   "cell_type": "code",
   "execution_count": 55,
   "id": "26b93d7d",
   "metadata": {},
   "outputs": [
    {
     "data": {
      "text/plain": [
       "2167463939504"
      ]
     },
     "execution_count": 55,
     "metadata": {},
     "output_type": "execute_result"
    }
   ],
   "source": [
    "id(b)"
   ]
  },
  {
   "cell_type": "code",
   "execution_count": 56,
   "id": "f62d6901",
   "metadata": {},
   "outputs": [],
   "source": [
    "c = a.copy()"
   ]
  },
  {
   "cell_type": "code",
   "execution_count": 57,
   "id": "38bf8813",
   "metadata": {},
   "outputs": [
    {
     "data": {
      "text/plain": [
       "2167463944592"
      ]
     },
     "execution_count": 57,
     "metadata": {},
     "output_type": "execute_result"
    }
   ],
   "source": [
    "id(c)"
   ]
  },
  {
   "cell_type": "code",
   "execution_count": 58,
   "id": "b053351f",
   "metadata": {},
   "outputs": [],
   "source": [
    "c += 1"
   ]
  },
  {
   "cell_type": "code",
   "execution_count": 59,
   "id": "e97ceac2",
   "metadata": {},
   "outputs": [
    {
     "name": "stdout",
     "output_type": "stream",
     "text": [
      "[ 2  3  4  5  6  7  8  9 10 11]\n"
     ]
    }
   ],
   "source": [
    "print(c)"
   ]
  },
  {
   "cell_type": "code",
   "execution_count": 60,
   "id": "4935f28c",
   "metadata": {},
   "outputs": [
    {
     "name": "stdout",
     "output_type": "stream",
     "text": [
      "[ 1  2  3  4  5  6  7  8  9 10]\n"
     ]
    }
   ],
   "source": [
    "print(a)"
   ]
  },
  {
   "cell_type": "markdown",
   "id": "5a143510",
   "metadata": {},
   "source": [
    "### np.vstack, np.hstack"
   ]
  },
  {
   "cell_type": "code",
   "execution_count": 63,
   "id": "ee3b9ffc",
   "metadata": {},
   "outputs": [],
   "source": [
    "a = np.array(range(1, 5))\n",
    "b = np.array(range(5, 9))\n",
    "c = np.array(range(9, 13))\n",
    "d = np.array(range(13, 17))"
   ]
  },
  {
   "cell_type": "code",
   "execution_count": 64,
   "id": "671750e1",
   "metadata": {},
   "outputs": [
    {
     "name": "stdout",
     "output_type": "stream",
     "text": [
      "[1 2 3 4]\n",
      "[5 6 7 8]\n",
      "[ 9 10 11 12]\n",
      "[13 14 15 16]\n"
     ]
    }
   ],
   "source": [
    "print(a)\n",
    "print(b)\n",
    "print(c)\n",
    "print(d)"
   ]
  },
  {
   "cell_type": "code",
   "execution_count": 65,
   "id": "13d94b5a",
   "metadata": {},
   "outputs": [
    {
     "data": {
      "text/plain": [
       "array([[ 1,  2,  3,  4],\n",
       "       [ 5,  6,  7,  8],\n",
       "       [ 9, 10, 11, 12],\n",
       "       [13, 14, 15, 16]])"
      ]
     },
     "execution_count": 65,
     "metadata": {},
     "output_type": "execute_result"
    }
   ],
   "source": [
    "np.vstack((a, b, c, d))"
   ]
  },
  {
   "cell_type": "code",
   "execution_count": 66,
   "id": "2a4e562c",
   "metadata": {},
   "outputs": [
    {
     "data": {
      "text/plain": [
       "array([ 1,  2,  3,  4,  5,  6,  7,  8,  9, 10, 11, 12, 13, 14, 15, 16])"
      ]
     },
     "execution_count": 66,
     "metadata": {},
     "output_type": "execute_result"
    }
   ],
   "source": [
    "np.hstack((a, b, c, d))"
   ]
  },
  {
   "cell_type": "markdown",
   "id": "7e3af87b",
   "metadata": {},
   "source": [
    "## np.diag"
   ]
  },
  {
   "cell_type": "code",
   "execution_count": 67,
   "id": "e3c36fb5",
   "metadata": {},
   "outputs": [
    {
     "data": {
      "text/plain": [
       "array([[1, 0, 0, 0, 0],\n",
       "       [0, 2, 0, 0, 0],\n",
       "       [0, 0, 5, 0, 0],\n",
       "       [0, 0, 0, 7, 0],\n",
       "       [0, 0, 0, 0, 9]])"
      ]
     },
     "execution_count": 67,
     "metadata": {},
     "output_type": "execute_result"
    }
   ],
   "source": [
    "np.diag((1, 2, 5, 7, 9))"
   ]
  },
  {
   "cell_type": "code",
   "execution_count": 68,
   "id": "26d76d28",
   "metadata": {},
   "outputs": [
    {
     "data": {
      "text/plain": [
       "array([[1, 1, 1, 1, 1, 1, 1],\n",
       "       [1, 1, 1, 1, 1, 1, 1],\n",
       "       [1, 1, 1, 1, 1, 1, 1],\n",
       "       [1, 1, 1, 1, 1, 1, 1],\n",
       "       [1, 1, 1, 1, 1, 1, 1]])"
      ]
     },
     "execution_count": 68,
     "metadata": {},
     "output_type": "execute_result"
    }
   ],
   "source": [
    "np.ones((5, 7), dtype=int)"
   ]
  },
  {
   "cell_type": "markdown",
   "id": "4960b1cd",
   "metadata": {},
   "source": [
    "## Random"
   ]
  },
  {
   "cell_type": "code",
   "execution_count": 70,
   "id": "536973bb",
   "metadata": {},
   "outputs": [
    {
     "data": {
      "text/plain": [
       "0.76715063801052"
      ]
     },
     "execution_count": 70,
     "metadata": {},
     "output_type": "execute_result"
    }
   ],
   "source": [
    "np.random.rand()"
   ]
  },
  {
   "cell_type": "code",
   "execution_count": 71,
   "id": "6282e412",
   "metadata": {},
   "outputs": [
    {
     "data": {
      "text/plain": [
       "array([0.93759615, 0.83005671, 0.95400823])"
      ]
     },
     "execution_count": 71,
     "metadata": {},
     "output_type": "execute_result"
    }
   ],
   "source": [
    "np.random.rand(3)"
   ]
  },
  {
   "cell_type": "code",
   "execution_count": 72,
   "id": "3e1235fb",
   "metadata": {},
   "outputs": [
    {
     "data": {
      "text/plain": [
       "array([[0.92094985, 0.93060675, 0.63888276, 0.5102609 ],\n",
       "       [0.62394574, 0.54961604, 0.69788159, 0.75170848],\n",
       "       [0.92150458, 0.09240907, 0.32756577, 0.35364474],\n",
       "       [0.82158606, 0.34798247, 0.2507341 , 0.63227258],\n",
       "       [0.58816959, 0.25555831, 0.50333039, 0.41396815]])"
      ]
     },
     "execution_count": 72,
     "metadata": {},
     "output_type": "execute_result"
    }
   ],
   "source": [
    "np.random.rand(5, 4)"
   ]
  },
  {
   "cell_type": "code",
   "execution_count": 74,
   "id": "080722ec",
   "metadata": {},
   "outputs": [
    {
     "data": {
      "text/plain": [
       "array([[5.11788775, 1.98558194, 4.62365524, 7.93866122],\n",
       "       [4.45859992, 1.61474025, 8.73462355, 8.44249496],\n",
       "       [4.64243165, 0.93581851, 4.59705901, 6.27714607]])"
      ]
     },
     "execution_count": 74,
     "metadata": {},
     "output_type": "execute_result"
    }
   ],
   "source": [
    "np.random.rand(3, 4)*10"
   ]
  },
  {
   "cell_type": "markdown",
   "id": "73d1f1d5",
   "metadata": {},
   "source": [
    "## randn"
   ]
  },
  {
   "cell_type": "code",
   "execution_count": 76,
   "id": "068ed0eb",
   "metadata": {},
   "outputs": [
    {
     "data": {
      "text/plain": [
       "-2.182525175215498"
      ]
     },
     "execution_count": 76,
     "metadata": {},
     "output_type": "execute_result"
    }
   ],
   "source": [
    "np.random.randn()"
   ]
  },
  {
   "cell_type": "code",
   "execution_count": 77,
   "id": "070cc449",
   "metadata": {},
   "outputs": [],
   "source": [
    "big_arr = np.random.randn(100000)"
   ]
  },
  {
   "cell_type": "code",
   "execution_count": 78,
   "id": "2d1e7866",
   "metadata": {},
   "outputs": [
    {
     "data": {
      "text/plain": [
       "numpy.ndarray"
      ]
     },
     "execution_count": 78,
     "metadata": {},
     "output_type": "execute_result"
    }
   ],
   "source": [
    "type(big_arr)"
   ]
  },
  {
   "cell_type": "code",
   "execution_count": 79,
   "id": "e84909a0",
   "metadata": {},
   "outputs": [
    {
     "data": {
      "text/plain": [
       "100000"
      ]
     },
     "execution_count": 79,
     "metadata": {},
     "output_type": "execute_result"
    }
   ],
   "source": [
    "len(big_arr)"
   ]
  },
  {
   "cell_type": "code",
   "execution_count": 80,
   "id": "33539991",
   "metadata": {},
   "outputs": [
    {
     "data": {
      "text/plain": [
       "0.002635240123999853"
      ]
     },
     "execution_count": 80,
     "metadata": {},
     "output_type": "execute_result"
    }
   ],
   "source": [
    "big_arr.mean()"
   ]
  },
  {
   "cell_type": "code",
   "execution_count": 81,
   "id": "14307944",
   "metadata": {},
   "outputs": [
    {
     "data": {
      "text/plain": [
       "1.0040324322842422"
      ]
     },
     "execution_count": 81,
     "metadata": {},
     "output_type": "execute_result"
    }
   ],
   "source": [
    "big_arr.std()"
   ]
  },
  {
   "cell_type": "code",
   "execution_count": 82,
   "id": "a21f47ec",
   "metadata": {},
   "outputs": [
    {
     "data": {
      "text/plain": [
       "47860"
      ]
     },
     "execution_count": 82,
     "metadata": {},
     "output_type": "execute_result"
    }
   ],
   "source": [
    "big_arr.argmax()"
   ]
  },
  {
   "cell_type": "markdown",
   "id": "3093c1be",
   "metadata": {},
   "source": [
    "## seed"
   ]
  },
  {
   "cell_type": "code",
   "execution_count": 84,
   "id": "94181de4",
   "metadata": {},
   "outputs": [
    {
     "data": {
      "text/plain": [
       "2.706849839399938"
      ]
     },
     "execution_count": 84,
     "metadata": {},
     "output_type": "execute_result"
    }
   ],
   "source": [
    "np.random.seed(101)\n",
    "np.random.randn()"
   ]
  },
  {
   "cell_type": "markdown",
   "id": "a5c7be7a",
   "metadata": {},
   "source": [
    "## arrayleri yeniden şekillendirme"
   ]
  },
  {
   "cell_type": "code",
   "execution_count": 85,
   "id": "43961007",
   "metadata": {},
   "outputs": [
    {
     "name": "stdout",
     "output_type": "stream",
     "text": [
      "[ 1  2  3  4  5  6  7  8  9 10 11 12 13 14 15 16]\n"
     ]
    }
   ],
   "source": [
    "arr = np.arange(1, 17)\n",
    "print(arr)"
   ]
  },
  {
   "cell_type": "code",
   "execution_count": 86,
   "id": "a5a0d221",
   "metadata": {},
   "outputs": [
    {
     "data": {
      "text/plain": [
       "array([[ 1,  2,  3,  4],\n",
       "       [ 5,  6,  7,  8],\n",
       "       [ 9, 10, 11, 12],\n",
       "       [13, 14, 15, 16]])"
      ]
     },
     "execution_count": 86,
     "metadata": {},
     "output_type": "execute_result"
    }
   ],
   "source": [
    "arr.reshape(4, 4)"
   ]
  },
  {
   "cell_type": "markdown",
   "id": "45416a7d",
   "metadata": {},
   "source": [
    "## indeksleme ve dilimleme"
   ]
  },
  {
   "cell_type": "code",
   "execution_count": 88,
   "id": "1ef2a1ca",
   "metadata": {},
   "outputs": [
    {
     "name": "stdout",
     "output_type": "stream",
     "text": [
      "[ 0  1  2  3  4  5  6  7  8  9 10 11 12 13 14 15]\n"
     ]
    }
   ],
   "source": [
    "arr = np.arange(0,16)\n",
    "print(arr)"
   ]
  },
  {
   "cell_type": "code",
   "execution_count": 89,
   "id": "2b3a5adf",
   "metadata": {},
   "outputs": [
    {
     "data": {
      "text/plain": [
       "2"
      ]
     },
     "execution_count": 89,
     "metadata": {},
     "output_type": "execute_result"
    }
   ],
   "source": [
    "arr[2]"
   ]
  },
  {
   "cell_type": "code",
   "execution_count": 90,
   "id": "7b7fe9dd",
   "metadata": {},
   "outputs": [
    {
     "name": "stdout",
     "output_type": "stream",
     "text": [
      "[ 0  2  4  6  8 10 12 14 16 18 20 22 24 26 28 30 32 34]\n"
     ]
    }
   ],
   "source": [
    "arr = np.arange(0, 35, 2)\n",
    "print(arr)"
   ]
  },
  {
   "cell_type": "code",
   "execution_count": 91,
   "id": "a575436d",
   "metadata": {},
   "outputs": [
    {
     "data": {
      "text/plain": [
       "12"
      ]
     },
     "execution_count": 91,
     "metadata": {},
     "output_type": "execute_result"
    }
   ],
   "source": [
    "arr[6]"
   ]
  },
  {
   "cell_type": "code",
   "execution_count": 93,
   "id": "a87da203",
   "metadata": {},
   "outputs": [
    {
     "name": "stdout",
     "output_type": "stream",
     "text": [
      "[[[ 0  2]\n",
      "  [ 4  6]\n",
      "  [ 8 10]]\n",
      "\n",
      " [[12 14]\n",
      "  [16 18]\n",
      "  [20 22]]\n",
      "\n",
      " [[24 26]\n",
      "  [28 30]\n",
      "  [32 34]]]\n"
     ]
    }
   ],
   "source": [
    "arr = arr.reshape(3, 3, 2)\n",
    "print(arr)"
   ]
  },
  {
   "cell_type": "code",
   "execution_count": 94,
   "id": "d5ba48f5",
   "metadata": {},
   "outputs": [
    {
     "data": {
      "text/plain": [
       "array([[12, 14],\n",
       "       [16, 18],\n",
       "       [20, 22]])"
      ]
     },
     "execution_count": 94,
     "metadata": {},
     "output_type": "execute_result"
    }
   ],
   "source": [
    "arr[1]"
   ]
  },
  {
   "cell_type": "code",
   "execution_count": 95,
   "id": "56178197",
   "metadata": {},
   "outputs": [
    {
     "data": {
      "text/plain": [
       "array([16, 18])"
      ]
     },
     "execution_count": 95,
     "metadata": {},
     "output_type": "execute_result"
    }
   ],
   "source": [
    "arr[1][1]"
   ]
  },
  {
   "cell_type": "code",
   "execution_count": 96,
   "id": "72e287b8",
   "metadata": {},
   "outputs": [
    {
     "data": {
      "text/plain": [
       "18"
      ]
     },
     "execution_count": 96,
     "metadata": {},
     "output_type": "execute_result"
    }
   ],
   "source": [
    "arr[1][1][1]"
   ]
  },
  {
   "cell_type": "code",
   "execution_count": 97,
   "id": "6a7715c0",
   "metadata": {},
   "outputs": [
    {
     "data": {
      "text/plain": [
       "4"
      ]
     },
     "execution_count": 97,
     "metadata": {},
     "output_type": "execute_result"
    }
   ],
   "source": [
    "arr[0][1][0]"
   ]
  },
  {
   "cell_type": "code",
   "execution_count": 98,
   "id": "ea35c3aa",
   "metadata": {},
   "outputs": [
    {
     "data": {
      "text/plain": [
       "array([[24, 26],\n",
       "       [28, 30],\n",
       "       [32, 34]])"
      ]
     },
     "execution_count": 98,
     "metadata": {},
     "output_type": "execute_result"
    }
   ],
   "source": [
    "arr[-1]"
   ]
  },
  {
   "cell_type": "markdown",
   "id": "bcd4a0e2",
   "metadata": {},
   "source": [
    "### Slicing"
   ]
  },
  {
   "cell_type": "code",
   "execution_count": 102,
   "id": "23762b0a",
   "metadata": {},
   "outputs": [],
   "source": [
    "arr =np.arange(10, 35)\n"
   ]
  },
  {
   "cell_type": "code",
   "execution_count": 103,
   "id": "75d8ccde",
   "metadata": {},
   "outputs": [
    {
     "data": {
      "text/plain": [
       "array([10, 11, 12, 13, 14, 15, 16, 17, 18, 19, 20, 21, 22, 23, 24, 25, 26,\n",
       "       27, 28, 29, 30, 31, 32, 33, 34])"
      ]
     },
     "execution_count": 103,
     "metadata": {},
     "output_type": "execute_result"
    }
   ],
   "source": [
    "arr"
   ]
  },
  {
   "cell_type": "code",
   "execution_count": 104,
   "id": "48b229b4",
   "metadata": {},
   "outputs": [
    {
     "data": {
      "text/plain": [
       "array([13, 14, 15, 16, 17])"
      ]
     },
     "execution_count": 104,
     "metadata": {},
     "output_type": "execute_result"
    }
   ],
   "source": [
    "arr[3:8]"
   ]
  },
  {
   "cell_type": "code",
   "execution_count": 105,
   "id": "b0dd23ba",
   "metadata": {},
   "outputs": [
    {
     "data": {
      "text/plain": [
       "array([29, 30, 31, 32])"
      ]
     },
     "execution_count": 105,
     "metadata": {},
     "output_type": "execute_result"
    }
   ],
   "source": [
    "arr[-6:-2]"
   ]
  },
  {
   "cell_type": "code",
   "execution_count": 106,
   "id": "7a0e4f02",
   "metadata": {},
   "outputs": [
    {
     "data": {
      "text/plain": [
       "25"
      ]
     },
     "execution_count": 106,
     "metadata": {},
     "output_type": "execute_result"
    }
   ],
   "source": [
    "len(arr)"
   ]
  },
  {
   "cell_type": "code",
   "execution_count": 107,
   "id": "e90aef90",
   "metadata": {},
   "outputs": [],
   "source": [
    "arr = arr.reshape(5, 5)"
   ]
  },
  {
   "cell_type": "code",
   "execution_count": 108,
   "id": "75e828b8",
   "metadata": {},
   "outputs": [
    {
     "data": {
      "text/plain": [
       "array([[10, 11, 12, 13, 14],\n",
       "       [15, 16, 17, 18, 19],\n",
       "       [20, 21, 22, 23, 24],\n",
       "       [25, 26, 27, 28, 29],\n",
       "       [30, 31, 32, 33, 34]])"
      ]
     },
     "execution_count": 108,
     "metadata": {},
     "output_type": "execute_result"
    }
   ],
   "source": [
    "arr"
   ]
  },
  {
   "cell_type": "code",
   "execution_count": 109,
   "id": "a9c7caff",
   "metadata": {},
   "outputs": [
    {
     "data": {
      "text/plain": [
       "array([[15, 16, 17, 18, 19],\n",
       "       [20, 21, 22, 23, 24]])"
      ]
     },
     "execution_count": 109,
     "metadata": {},
     "output_type": "execute_result"
    }
   ],
   "source": [
    "arr[1:3]"
   ]
  },
  {
   "cell_type": "code",
   "execution_count": 110,
   "id": "a64e0195",
   "metadata": {},
   "outputs": [
    {
     "data": {
      "text/plain": [
       "array([[20, 21, 22, 23, 24]])"
      ]
     },
     "execution_count": 110,
     "metadata": {},
     "output_type": "execute_result"
    }
   ],
   "source": [
    "arr[1:3][1:3]"
   ]
  },
  {
   "cell_type": "code",
   "execution_count": 111,
   "id": "4cc5a5fb",
   "metadata": {},
   "outputs": [
    {
     "data": {
      "text/plain": [
       "array([[16, 17],\n",
       "       [21, 22]])"
      ]
     },
     "execution_count": 111,
     "metadata": {},
     "output_type": "execute_result"
    }
   ],
   "source": [
    "arr[1:3,1:3]"
   ]
  },
  {
   "cell_type": "code",
   "execution_count": 115,
   "id": "ef181b9e",
   "metadata": {},
   "outputs": [
    {
     "data": {
      "text/plain": [
       "array([[23, 24],\n",
       "       [28, 29],\n",
       "       [33, 34]])"
      ]
     },
     "execution_count": 115,
     "metadata": {},
     "output_type": "execute_result"
    }
   ],
   "source": [
    "arr[2:, 3:]"
   ]
  },
  {
   "cell_type": "markdown",
   "id": "e02ee916",
   "metadata": {},
   "source": [
    "## Koşullu filtreleme"
   ]
  },
  {
   "cell_type": "code",
   "execution_count": 117,
   "id": "95c56562",
   "metadata": {},
   "outputs": [
    {
     "name": "stdout",
     "output_type": "stream",
     "text": [
      "[57 96 73 69 16 21 94 52 37 37 60 94 28 84 36 35 27 28 42 10  6 25 33 77\n",
      " 39 48 24 40 54 77 28 69 57 18 63 75 67 94 87  7 67 91 61 34 53 30 55 17\n",
      " 67  8]\n"
     ]
    }
   ],
   "source": [
    "np.random.seed(51)\n",
    "arr = np.random.randint(0, 100, size=50)\n",
    "print(arr)"
   ]
  },
  {
   "cell_type": "code",
   "execution_count": 119,
   "id": "745f374a",
   "metadata": {},
   "outputs": [
    {
     "name": "stdout",
     "output_type": "stream",
     "text": [
      "[ True  True  True  True False False  True  True False False  True  True\n",
      " False  True False False False False False False False False False  True\n",
      " False False False False  True  True False  True  True False  True  True\n",
      "  True  True  True False  True  True  True False  True False  True False\n",
      "  True False]\n"
     ]
    }
   ],
   "source": [
    "bool_arr = arr > 50\n",
    "print(bool_arr)"
   ]
  },
  {
   "cell_type": "code",
   "execution_count": 120,
   "id": "fa615984",
   "metadata": {},
   "outputs": [
    {
     "data": {
      "text/plain": [
       "array([57, 96, 73, 69, 94, 52, 60, 94, 84, 77, 54, 77, 69, 57, 63, 75, 67,\n",
       "       94, 87, 67, 91, 61, 53, 55, 67])"
      ]
     },
     "execution_count": 120,
     "metadata": {},
     "output_type": "execute_result"
    }
   ],
   "source": [
    "arr[bool_arr]"
   ]
  },
  {
   "cell_type": "code",
   "execution_count": 121,
   "id": "1d2f2324",
   "metadata": {},
   "outputs": [
    {
     "data": {
      "text/plain": [
       "array([57, 96, 73, 69, 94, 52, 60, 94, 84, 77, 54, 77, 69, 57, 63, 75, 67,\n",
       "       94, 87, 67, 91, 61, 53, 55, 67])"
      ]
     },
     "execution_count": 121,
     "metadata": {},
     "output_type": "execute_result"
    }
   ],
   "source": [
    "arr[arr > 50]"
   ]
  },
  {
   "cell_type": "code",
   "execution_count": 122,
   "id": "d9e14d9b",
   "metadata": {},
   "outputs": [],
   "source": [
    "arr2 = np.array([1, 3, 4, 7, 8, 9])\n",
    "bool_arr2 = np.array([False, False, True, False, True, False])"
   ]
  },
  {
   "cell_type": "code",
   "execution_count": 123,
   "id": "e2f79eb8",
   "metadata": {},
   "outputs": [
    {
     "data": {
      "text/plain": [
       "6"
      ]
     },
     "execution_count": 123,
     "metadata": {},
     "output_type": "execute_result"
    }
   ],
   "source": [
    "len(arr2)"
   ]
  },
  {
   "cell_type": "code",
   "execution_count": 124,
   "id": "5fd232a3",
   "metadata": {},
   "outputs": [
    {
     "data": {
      "text/plain": [
       "6"
      ]
     },
     "execution_count": 124,
     "metadata": {},
     "output_type": "execute_result"
    }
   ],
   "source": [
    "len(bool_arr2)"
   ]
  },
  {
   "cell_type": "code",
   "execution_count": 125,
   "id": "ce61fa8b",
   "metadata": {},
   "outputs": [
    {
     "data": {
      "text/plain": [
       "array([4, 8])"
      ]
     },
     "execution_count": 125,
     "metadata": {},
     "output_type": "execute_result"
    }
   ],
   "source": [
    "arr2[bool_arr2]"
   ]
  },
  {
   "cell_type": "code",
   "execution_count": 127,
   "id": "09494d95",
   "metadata": {},
   "outputs": [
    {
     "name": "stdout",
     "output_type": "stream",
     "text": [
      "[182 610 653 561 486 674 153 288 153 551 131 542 586 625 429 149 179 153\n",
      " 316 200 377 475 596 344 415 562 283 180 654 242 566 266 212 194 366 177\n",
      " 174 128 403 468 576 634 629 443 544 560 220 602 465 634 433 299 369 172\n",
      " 209 506 603 484 358 297 565 369 486 549 476 137 580 292 481 562 166 241\n",
      " 200 208 310 600 127 297 172 533 605 387 414 642 654 279 487 410 326 291\n",
      " 625 539 386 451 282 396 306 624 495 585]\n"
     ]
    }
   ],
   "source": [
    "np.random.seed(51)\n",
    "arr3 = np.random.randint(125, 675, 100)\n",
    "print(arr3)"
   ]
  },
  {
   "cell_type": "code",
   "execution_count": 130,
   "id": "b31d9c02",
   "metadata": {},
   "outputs": [
    {
     "data": {
      "text/plain": [
       "array([288, 316, 377, 344, 283, 266, 366, 299, 369, 358, 297, 369, 292,\n",
       "       310, 297, 387, 279, 326, 291, 386, 282, 396, 306])"
      ]
     },
     "execution_count": 130,
     "metadata": {},
     "output_type": "execute_result"
    }
   ],
   "source": [
    "arr3[(arr3 > 250) & (arr3 < 400)]"
   ]
  },
  {
   "cell_type": "code",
   "execution_count": 133,
   "id": "1dd8aa03",
   "metadata": {},
   "outputs": [
    {
     "name": "stdout",
     "output_type": "stream",
     "text": [
      "[58 97 74 70 17 22 95 53 38 38 61 95 29 85 37 36 28 29 43 11  7 26 34 78\n",
      " 40 49 25 41 55 78 29 70 58 19 64 76 68 95 88  8 68 92 62 35 54 31 56 18\n",
      " 68  9]\n"
     ]
    }
   ],
   "source": [
    "np.random.seed(51)\n",
    "arr3 = np.random.randint(1, 100, 50)\n",
    "print(arr3)"
   ]
  },
  {
   "cell_type": "code",
   "execution_count": 134,
   "id": "523aa6fe",
   "metadata": {},
   "outputs": [
    {
     "data": {
      "text/plain": [
       "array([58, 97, 74, 70, 95, 53, 38, 38, 61, 95, 29, 85, 37, 36, 28, 29, 43,\n",
       "       26, 34, 78, 40, 49, 41, 55, 78, 29, 70, 58, 64, 76, 68, 95, 88, 68,\n",
       "       92, 62, 35, 54, 31, 56, 68])"
      ]
     },
     "execution_count": 134,
     "metadata": {},
     "output_type": "execute_result"
    }
   ],
   "source": [
    "arr3[arr3 > 25]"
   ]
  },
  {
   "cell_type": "code",
   "execution_count": 140,
   "id": "6b44521f",
   "metadata": {},
   "outputs": [
    {
     "data": {
      "text/plain": [
       "2381"
      ]
     },
     "execution_count": 140,
     "metadata": {},
     "output_type": "execute_result"
    }
   ],
   "source": [
    "arr3[arr3 > 25].sum()"
   ]
  },
  {
   "cell_type": "code",
   "execution_count": 138,
   "id": "63296738",
   "metadata": {},
   "outputs": [
    {
     "ename": "AttributeError",
     "evalue": "'numpy.ndarray' object has no attribute 'ndarray'",
     "output_type": "error",
     "traceback": [
      "\u001b[1;31m---------------------------------------------------------------------------\u001b[0m",
      "\u001b[1;31mAttributeError\u001b[0m                            Traceback (most recent call last)",
      "Cell \u001b[1;32mIn[138], line 1\u001b[0m\n\u001b[1;32m----> 1\u001b[0m arr3\u001b[38;5;241m.\u001b[39mndarray\u001b[38;5;241m.\u001b[39msum\n",
      "\u001b[1;31mAttributeError\u001b[0m: 'numpy.ndarray' object has no attribute 'ndarray'"
     ]
    }
   ],
   "source": [
    "arr3.ndarray.sum"
   ]
  },
  {
   "cell_type": "code",
   "execution_count": 141,
   "id": "44bcfcd1",
   "metadata": {},
   "outputs": [
    {
     "data": {
      "text/plain": [
       "58.073170731707314"
      ]
     },
     "execution_count": 141,
     "metadata": {},
     "output_type": "execute_result"
    }
   ],
   "source": [
    "arr3[arr3 > 25].mean()"
   ]
  },
  {
   "cell_type": "code",
   "execution_count": 142,
   "id": "44e894af",
   "metadata": {},
   "outputs": [
    {
     "data": {
      "text/plain": [
       "21.76413501321129"
      ]
     },
     "execution_count": 142,
     "metadata": {},
     "output_type": "execute_result"
    }
   ],
   "source": [
    "arr3[arr3 > 25].std()"
   ]
  },
  {
   "cell_type": "markdown",
   "id": "7b4608df",
   "metadata": {},
   "source": [
    "## NumPy Operations"
   ]
  },
  {
   "cell_type": "markdown",
   "id": "813a5154",
   "metadata": {},
   "source": [
    "### Arithmetic Operations"
   ]
  },
  {
   "cell_type": "code",
   "execution_count": 143,
   "id": "1d77607c",
   "metadata": {},
   "outputs": [],
   "source": [
    "a = np.array([4, 5, 6])\n",
    "b = np.array([1, 2, 3])"
   ]
  },
  {
   "cell_type": "code",
   "execution_count": 144,
   "id": "73f2e89b",
   "metadata": {},
   "outputs": [
    {
     "data": {
      "text/plain": [
       "array([57, 96, 73, 69, 16, 21, 94, 52, 37, 37, 60, 94, 28, 84, 36, 35, 27,\n",
       "       28, 42, 10,  6, 25, 33, 77, 39, 48, 24, 40, 54, 77, 28, 69, 57, 18,\n",
       "       63, 75, 67, 94, 87,  7, 67, 91, 61, 34, 53, 30, 55, 17, 67,  8])"
      ]
     },
     "execution_count": 144,
     "metadata": {},
     "output_type": "execute_result"
    }
   ],
   "source": [
    "arr"
   ]
  },
  {
   "cell_type": "code",
   "execution_count": 145,
   "id": "468d8775",
   "metadata": {},
   "outputs": [],
   "source": [
    "arr += 1"
   ]
  },
  {
   "cell_type": "code",
   "execution_count": 146,
   "id": "15725708",
   "metadata": {},
   "outputs": [
    {
     "name": "stdout",
     "output_type": "stream",
     "text": [
      "[58 97 74 70 17 22 95 53 38 38 61 95 29 85 37 36 28 29 43 11  7 26 34 78\n",
      " 40 49 25 41 55 78 29 70 58 19 64 76 68 95 88  8 68 92 62 35 54 31 56 18\n",
      " 68  9]\n"
     ]
    }
   ],
   "source": [
    "print(arr)"
   ]
  },
  {
   "cell_type": "code",
   "execution_count": 147,
   "id": "248e976f",
   "metadata": {},
   "outputs": [],
   "source": [
    "arr.sort()"
   ]
  },
  {
   "cell_type": "code",
   "execution_count": 148,
   "id": "a4fcf4fc",
   "metadata": {},
   "outputs": [
    {
     "data": {
      "text/plain": [
       "array([ 7,  8,  9, 11, 17, 18, 19, 22, 25, 26, 28, 29, 29, 29, 31, 34, 35,\n",
       "       36, 37, 38, 38, 40, 41, 43, 49, 53, 54, 55, 56, 58, 58, 61, 62, 64,\n",
       "       68, 68, 68, 70, 70, 74, 76, 78, 78, 85, 88, 92, 95, 95, 95, 97])"
      ]
     },
     "execution_count": 148,
     "metadata": {},
     "output_type": "execute_result"
    }
   ],
   "source": [
    "arr"
   ]
  },
  {
   "cell_type": "code",
   "execution_count": 149,
   "id": "b7bfd76d",
   "metadata": {},
   "outputs": [
    {
     "data": {
      "text/plain": [
       "50.34"
      ]
     },
     "execution_count": 149,
     "metadata": {},
     "output_type": "execute_result"
    }
   ],
   "source": [
    "np.mean(arr)"
   ]
  },
  {
   "cell_type": "code",
   "execution_count": 150,
   "id": "54a9d27d",
   "metadata": {},
   "outputs": [
    {
     "data": {
      "text/plain": [
       "50.34"
      ]
     },
     "execution_count": 150,
     "metadata": {},
     "output_type": "execute_result"
    }
   ],
   "source": [
    "arr.mean()"
   ]
  },
  {
   "cell_type": "code",
   "execution_count": 152,
   "id": "65043186",
   "metadata": {},
   "outputs": [
    {
     "data": {
      "text/plain": [
       "51.0"
      ]
     },
     "execution_count": 152,
     "metadata": {},
     "output_type": "execute_result"
    }
   ],
   "source": [
    "np.median(arr)"
   ]
  },
  {
   "cell_type": "code",
   "execution_count": null,
   "id": "e3f4e075",
   "metadata": {},
   "outputs": [],
   "source": []
  }
 ],
 "metadata": {
  "kernelspec": {
   "display_name": "Python 3 (ipykernel)",
   "language": "python",
   "name": "python3"
  },
  "language_info": {
   "codemirror_mode": {
    "name": "ipython",
    "version": 3
   },
   "file_extension": ".py",
   "mimetype": "text/x-python",
   "name": "python",
   "nbconvert_exporter": "python",
   "pygments_lexer": "ipython3",
   "version": "3.11.5"
  }
 },
 "nbformat": 4,
 "nbformat_minor": 5
}
